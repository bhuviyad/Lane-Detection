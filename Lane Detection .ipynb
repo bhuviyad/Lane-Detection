{
 "cells": [
  {
   "cell_type": "code",
   "execution_count": 12,
   "id": "17b5dfa3",
   "metadata": {},
   "outputs": [],
   "source": [
    "import numpy as np \n",
    "import pandas as pd\n",
    "import matplotlib.pyplot as plt\n",
    "import cv2"
   ]
  },
  {
   "cell_type": "code",
   "execution_count": 13,
   "id": "6cb9649f",
   "metadata": {},
   "outputs": [],
   "source": [
    "def make_coordinates(image, line_parameters):\n",
    "    slope, intercept = line_parameters \n",
    "    y1 = image.shape[0]\n",
    "    y2 = int(y1*(3/5)) \n",
    "    x1 = int((y1 - intercept)/slope)\n",
    "    x2 = int((y2 - intercept)/slope)\n",
    "    return np.array([x1, y1, x2, y2])\n",
    "\n",
    "def average_slope_intercept(image, lines): \n",
    "    left_fit = []\n",
    "    right_fit = [] \n",
    "    for line in lines: \n",
    "        x1, y1, x2, y2 = line.reshape(4)\n",
    "        parameters = np.polyfit((x1, x2), (y1, y2), 1)\n",
    "        slope = parameters [0]\n",
    "        intercept = parameters[1]\n",
    "\n",
    "        if slope < 0: \n",
    "            left_fit.append((slope, intercept)) \n",
    "\n",
    "        else:\n",
    "            right_fit.append((slope, intercept)) \n",
    "        \n",
    "    left_fit_average = np.average(left_fit, axis=0) \n",
    "    right_fit_average = np.average(right_fit, axis = 0) \n",
    "    left_line = make_coordinates(image, left_fit_average) \n",
    "    right_line = make_coordinates(image, right_fit_average) \n",
    "    return np.array([left_line, right_line]) \n",
    "\n",
    "def display_lines(image , lines):\n",
    "    line_image = np.zeros_like(image)\n",
    "    if lines is not None:\n",
    "        for x1, y1, x2, y2 in lines:\n",
    "            cv2.line(line_image, (int(x1), int(y1)), (int(x2), int(y2)), (255, 0, 0), 10)\n",
    "    return line_image\n",
    "\n",
    "def canny_img(image):\n",
    "    gray = cv2.cvtColor(image, cv2.COLOR_RGB2GRAY)\n",
    "    blur = cv2.GaussianBlur(gray, (5, 5),0)\n",
    "    canny = cv2.Canny(blur, 50, 150)\n",
    "    return canny\n",
    "\n",
    "def region_of_interest(image):\n",
    "    height = image.shape[0]\n",
    "    polygons = np.array([[(320, height ), (1000, height), (550, 250)]])\n",
    "    mask = np.zeros_like(image)\n",
    "    cv2.fillPoly(mask, polygons, 255)\n",
    "    masked_image = cv2.bitwise_and(image, mask)\n",
    "    return masked_image\n",
    "\n"
   ]
  },
  {
   "cell_type": "code",
   "execution_count": 14,
   "id": "a408fac5",
   "metadata": {},
   "outputs": [
    {
     "data": {
      "text/plain": [
       "-1"
      ]
     },
     "execution_count": 14,
     "metadata": {},
     "output_type": "execute_result"
    }
   ],
   "source": [
    "image = cv2.imread(\"test_image.jpg\")\n",
    "lane_image = np.copy(image)\n",
    "canny = canny_img(lane_image) \n",
    "cropped_image = region_of_interest (canny) \n",
    "lines = cv2.HoughLinesP(cropped_image, 2,np.pi/180,100,np.array([]),minLineLength = 40, maxLineGap = 100)\n",
    "averaged_lines = average_slope_intercept(lane_image, lines)\n",
    "line_image = display_lines(lane_image , averaged_lines)\n",
    "combo_image = cv2.addWeighted(lane_image, 0.8, line_image, 1, 1) \n",
    "cv2.imshow(\"result\", combo_image) \n",
    "cv2.waitKey(0)"
   ]
  },
  {
   "cell_type": "code",
   "execution_count": 4,
   "id": "e884a6a8",
   "metadata": {},
   "outputs": [
    {
     "data": {
      "text/plain": [
       "-1"
      ]
     },
     "execution_count": 4,
     "metadata": {},
     "output_type": "execute_result"
    }
   ],
   "source": [
    "image = cv2.imread(\"imgtest.jpeg\")\n",
    "lane_image = np.copy(image)\n",
    "canny = canny_img(lane_image) \n",
    "cropped_image = region_of_interest (canny) \n",
    "lines = cv2.HoughLinesP(cropped_image, 2,np.pi/180,100,np.array([]),minLineLength = 40, maxLineGap = 5)\n",
    "averaged_lines = average_slope_intercept(lane_image, lines)\n",
    "line_image = display_lines(lane_image , averaged_lines)\n",
    "combo_image = cv2.addWeighted(lane_image, 0.8, line_image, 1, 1) \n",
    "cv2.imshow(\"result\", combo_image) \n",
    "cv2.waitKey(0)"
   ]
  },
  {
   "cell_type": "code",
   "execution_count": 5,
   "id": "4d1c8b31",
   "metadata": {},
   "outputs": [
    {
     "name": "stdout",
     "output_type": "stream",
     "text": [
      "width, height: 1280.0 720.0\n"
     ]
    }
   ],
   "source": [
    "cap = cv2.VideoCapture(\"test2.mp4\")\n",
    "if cap.isOpened():\n",
    "    width  = cap.get(3)  # float `width`\n",
    "    height = cap.get(4)\n",
    "    print('width, height:', width, height)"
   ]
  },
  {
   "cell_type": "code",
   "execution_count": 6,
   "id": "a60f6653",
   "metadata": {},
   "outputs": [
    {
     "name": "stdout",
     "output_type": "stream",
     "text": [
      "width, height: 1280.0 720.0\n"
     ]
    }
   ],
   "source": [
    "cap = cv2.VideoCapture(\"test3.mp4\")\n",
    "if cap.isOpened():\n",
    "    width  = cap.get(3)  # float `width`\n",
    "    height = cap.get(4)\n",
    "    print('width, height:', width, height)"
   ]
  },
  {
   "cell_type": "code",
   "execution_count": 16,
   "id": "8890ef69",
   "metadata": {},
   "outputs": [],
   "source": [
    "cap = cv2.VideoCapture(\"test2.mp4\")\n",
    "while(cap.isOpened()):\n",
    "    _, frame = cap.read()\n",
    "    canny = canny_img(frame) \n",
    "    cropped_image = region_of_interest (canny) \n",
    "    lines = cv2.HoughLinesP(cropped_image, 2,np.pi/180,100,np.array([]),minLineLength = 40, maxLineGap = 5)\n",
    "    averaged_lines = average_slope_intercept(frame, lines)\n",
    "    line_image = display_lines(frame , averaged_lines)\n",
    "    combo_image = cv2.addWeighted(frame, 0.8, line_image, 1, 1) \n",
    "    cv2.imshow(\"result\", combo_image) \n",
    "    if cv2.waitKey(25) & 0xFF == ord(\"q\"):\n",
    "        break\n",
    "cap.release()\n",
    "cv2.destroyAllWindows ()"
   ]
  },
  {
   "cell_type": "code",
   "execution_count": 15,
   "id": "712fa82a",
   "metadata": {},
   "outputs": [],
   "source": [
    "cap = cv2.VideoCapture(\"test3.mp4\")\n",
    "\n",
    "while(cap.isOpened()):\n",
    "    _, frame = cap.read()\n",
    "    canny = canny_img(frame) \n",
    "    cropped_image = region_of_interest (canny) \n",
    "    lines = cv2.HoughLinesP(cropped_image, 2,np.pi/180,100,np.array([]),minLineLength = 40, maxLineGap = 5)\n",
    "    averaged_lines = average_slope_intercept(frame, lines)\n",
    "    line_image = display_lines(frame , averaged_lines)\n",
    "    combo_image = cv2.addWeighted(frame, 0.8, line_image, 1, 1) \n",
    "    cv2.imshow(\"result\", combo_image) \n",
    "    if cv2.waitKey(30) & 0xFF == ord(\"q\"):\n",
    "        break\n",
    "cap.release()\n",
    "cv2.destroyAllWindows ()"
   ]
  },
  {
   "cell_type": "code",
   "execution_count": 16,
   "id": "ebc9ab00",
   "metadata": {},
   "outputs": [],
   "source": [
    "cap = cv2.VideoCapture(\"test3.mp4\")\n",
    "\n",
    "while(cap.isOpened()):\n",
    "    _, frame = cap.read()\n",
    "    canny = canny_img(frame) \n",
    "    cropped_image = region_of_interest (canny) \n",
    "    lines = cv2.HoughLinesP(cropped_image, 2,np.pi/180,200,np.array([]),minLineLength = 40, maxLineGap = 5)\n",
    "    averaged_lines = average_slope_intercept(frame, lines)\n",
    "    line_image = display_lines(frame , averaged_lines)\n",
    "    combo_image = cv2.addWeighted(frame, 0.8, line_image, 1, 1) \n",
    "    cv2.imshow(\"result\", combo_image) \n",
    "    if cv2.waitKey(30) & 0xFF == ord(\"q\"):\n",
    "        break\n",
    "cap.release()\n",
    "cv2.destroyAllWindows ()"
   ]
  },
  {
   "cell_type": "code",
   "execution_count": null,
   "id": "fa33ada0",
   "metadata": {},
   "outputs": [],
   "source": []
  }
 ],
 "metadata": {
  "kernelspec": {
   "display_name": "Python 3 (ipykernel)",
   "language": "python",
   "name": "python3"
  },
  "language_info": {
   "codemirror_mode": {
    "name": "ipython",
    "version": 3
   },
   "file_extension": ".py",
   "mimetype": "text/x-python",
   "name": "python",
   "nbconvert_exporter": "python",
   "pygments_lexer": "ipython3",
   "version": "3.9.12"
  }
 },
 "nbformat": 4,
 "nbformat_minor": 5
}
